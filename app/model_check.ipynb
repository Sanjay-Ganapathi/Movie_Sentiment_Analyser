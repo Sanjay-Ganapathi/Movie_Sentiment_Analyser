{
 "cells": [
  {
   "cell_type": "code",
   "execution_count": 4,
   "metadata": {},
   "outputs": [],
   "source": [
    "from tensorflow.keras.models import load_model\n",
    "from tensorflow.keras.preprocessing.sequence import pad_sequences\n",
    "import pickle\n",
    "\n",
    "model = load_model('model.hdf')\n",
    "tokens = pickle.load(open('tokens.pkl','rb'))\n",
    "\n",
    "def decode_sentiment(score):\n",
    "    label = None\n",
    "    if score <= 0.4:\n",
    "        label = 'Negative'\n",
    "    elif score >= 0.7:\n",
    "        label = 'Positive'\n",
    "    else:\n",
    "        label = 'Neutral'\n",
    "    \n",
    "    return label\n",
    "\n",
    "max_length = 20\n",
    "trunc_type = 'post'\n",
    "padd_type = 'post'\n",
    "\n",
    "def predict(text):\n",
    "    x_test = pad_sequences(tokens.texts_to_sequences([text]), maxlen=max_length,padding=padd_type,truncating=trunc_type)\n",
    "    score = model.predict([x_test])[0]\n",
    "    \n",
    "    label = decode_sentiment(score)\n",
    "\n",
    "    return {\"label\": label, \"score\": round(float(score),3)} "
   ]
  },
  {
   "cell_type": "code",
   "execution_count": 5,
   "metadata": {},
   "outputs": [
    {
     "data": {
      "text/plain": [
       "{'label': 'Positive', 'score': 0.884}"
      ]
     },
     "execution_count": 5,
     "metadata": {},
     "output_type": "execute_result"
    }
   ],
   "source": [
    "predict('I love fishing')"
   ]
  },
  {
   "cell_type": "code",
   "execution_count": null,
   "metadata": {},
   "outputs": [],
   "source": []
  }
 ],
 "metadata": {
  "kernelspec": {
   "display_name": "dashenv",
   "language": "python",
   "name": "dashenv"
  },
  "language_info": {
   "codemirror_mode": {
    "name": "ipython",
    "version": 3
   },
   "file_extension": ".py",
   "mimetype": "text/x-python",
   "name": "python",
   "nbconvert_exporter": "python",
   "pygments_lexer": "ipython3",
   "version": "3.8.5"
  }
 },
 "nbformat": 4,
 "nbformat_minor": 4
}
